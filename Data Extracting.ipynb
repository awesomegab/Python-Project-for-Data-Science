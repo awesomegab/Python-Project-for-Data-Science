{
  "metadata": {
    "kernelspec": {
      "name": "python",
      "display_name": "Python (Pyodide)",
      "language": "python"
    },
    "language_info": {
      "codemirror_mode": {
        "name": "python",
        "version": 3
      },
      "file_extension": ".py",
      "mimetype": "text/x-python",
      "name": "python",
      "nbconvert_exporter": "python",
      "pygments_lexer": "ipython3",
      "version": "3.8"
    }
  },
  "nbformat_minor": 4,
  "nbformat": 4,
  "cells": [
    {
      "cell_type": "markdown",
      "source": "# Data Extraction",
      "metadata": {}
    },
    {
      "cell_type": "markdown",
      "source": "__Stock data using Yfinance module.__",
      "metadata": {}
    },
    {
      "cell_type": "code",
      "source": "%pip install yfinance\n%pip install pandas\n%pip install requests\n%pip install bs4\n",
      "metadata": {
        "trusted": true
      },
      "outputs": [],
      "execution_count": 2
    },
    {
      "cell_type": "code",
      "source": "import yfinance as yf\nimport pandas as pd\n\ntesla = yf.Ticker(\"TSLA\")#With this line you define the stock you want to get data of.\ntesla_data = tesla.history(period=\"max\")#with this line you get the historical data of the selected stock as a pandas dataframe.\nnew_df = tesla_data.loc['Open', 'High', 'Low']#Since the data is a pandas dataframe you can perform slicing, save the data as csv, etc.",
      "metadata": {
        "trusted": true
      },
      "outputs": [],
      "execution_count": 8
    },
    {
      "cell_type": "markdown",
      "source": "__Extracting a table from the internet with Pandas__",
      "metadata": {}
    },
    {
      "cell_type": "code",
      "source": "import pandas as pd\n\nurl = \"https://en.wikipedia.org/wiki/List_of_countries_by_GDP_(nominal)\" #Save the url of the site containing the table as a string.\ntables = pd.read_html(url) #Use the method read_html from pandas to get all the tables in the page.\nmy_table = tables[0] #For selecting the right table you have to find out what the index of said table is, in this case, 0.\nmy_table #The variable my_table is now a pandas dataframe containing the data of the table from the internet.\nmy_table.columns=[\"Date\",\"Revenue\"] #With this line I assigned column names for the dataframe.",
      "metadata": {
        "trusted": true
      },
      "outputs": [],
      "execution_count": 10
    },
    {
      "cell_type": "markdown",
      "source": "__Extracting a table from the internet using requests and Beautiful Soup.__",
      "metadata": {}
    },
    {
      "cell_type": "code",
      "source": "import requests\nfrom bs4 import BeautifulSoup\nimport pandas as pd\n\nurl = \"https://cf-courses-data.s3.us.cloud-object-storage.appdomain.cloud/IBMDeveloperSkillsNetwork-PY0220EN-SkillsNetwork/labs/project/revenue.htm\" #For this method you also need the url.\n\nr = request.get(url) #This will get the full html code.\nsoup = BeautifulSoup(r.text,'html.parser') #Create a beautiful soup item to parse the html, the .text function transforms the html into a string.\n\ntesla_revenue1 = soup.find_all('table', class_= 'historical_data_table table')[1]\n#In the code above: find_all('what you're looking for', class_= 'basically the name of the table)[index of the table]\n\nnew_row = {} #New empty dictionary.\nquarterlist = [] #New empty list for one column.\nrevenuelist = [] #New empty list for the other column.\n\nfor q in tesla_revenue1.find_all('tbody'): #The wanted table is always in the body of the code, that is why the parameter 'tbody'.\n    rows = q.find_all('tr') #each line starts with 'tr'.\n    for row in rows:\n        quarter = row.find_all('td').text #the rows started with td in the source code of the page.\n        revenue = row.find_all('td', style='text-align:center')[1].text #In this line the part 'style' is similar to class_ up there, it's just the name that was after what I wanted.\n        quarterlist.append(quarter) #Adding the data of the rows of the column Date to the list I created before.\n        revenuelist.append(revenue) #Adding the data of the rows of the column Revenue to the list I created before.\n\nnew_row[\"Date\"]= quarterlist #Assigning the key \"Date\" and adding the values to the dictionary. dict[\"key\"]= values(in this case a list)\nnew_row[\"Revenue\"]= revenuelist #Assigning the key \"Revenue\" and adding the values to the dictionary. dict[\"key\"]= values(in this case a list)\n\n#I AM SURE THAT THERE ARE BETTER WAYS OF DOING THIS, BUT THIS IS HOW I MANAGED TO DO IT.",
      "metadata": {
        "trusted": true
      },
      "outputs": [],
      "execution_count": null
    },
    {
      "cell_type": "markdown",
      "source": "#### I made this notebook just so I remember how I managed to get the data for the IBM course project",
      "metadata": {}
    },
    {
      "cell_type": "markdown",
      "source": "#### It is propably not the best solution, but that is how I managed to do it.",
      "metadata": {}
    },
    {
      "cell_type": "markdown",
      "source": "__Author: Gabriel Silva de Melo__",
      "metadata": {}
    },
    {
      "cell_type": "code",
      "source": "",
      "metadata": {
        "trusted": true
      },
      "outputs": [],
      "execution_count": null
    }
  ]
}